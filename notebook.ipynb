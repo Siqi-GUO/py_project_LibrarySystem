{
 "cells": [
  {
   "cell_type": "markdown",
   "id": "23b0f81c-b6a8-4103-a1bb-d549c7a2d72f",
   "metadata": {},
   "source": [
    "# Final Project\n",
    "This is your final project. It accounts for a maximum of 20% of the final grade. Read the following instructions carefully.\n",
    "\n",
    "## Instructions\n",
    "\n",
    "You should work on this project either individually or in a team of 2 students.\n",
    "Both students of the team need to submit the project online.\n",
    "\n",
    "This project will be partially manually graded.\n",
    "You have a limited time to submit: Friday, 22 December 2023, at 23:59 PM. After the deadline, submission is not possible. Only your last submission counts.\n",
    "\n",
    "Copying the solution of another student is forbidden. Plagiarized solutions (copied from other sources or other teams) will receive 0 points.\n",
    "\n",
    "## Project Goal\n",
    "The goal of this project is to program a Python class that manages a library system for a public library. The class must contain:\n",
    "\n",
    "- 1 constructor (`__init__`)\n",
    "- 1 destructor (`__del__`)\n",
    "- 5 methods\n",
    "- 2 class attributes\n",
    "- 5 instance attributes\n",
    "\n",
    "## Specific Requirements\n",
    "Create a Python class named LibrarySystem that has the following:\n",
    "\n",
    "### Constructor\n",
    "\n",
    "```\n",
    "def __init__(self, library_id, branch_name, librarian_name, total_books, max_borrow_limit):\n",
    "    pass\n",
    "```\n",
    "\n",
    "### Destructor\n",
    "```\n",
    "def __del__(self):\n",
    "    pass\n",
    "```\n",
    "\n",
    "### Class Attributes\n",
    "- `TotalBranches = 50`\n",
    "- `TotalBooksAvailable = 1000000`\n",
    "\n",
    "### Instance Attributes\n",
    "- `library_id`\n",
    "- `branch_name`\n",
    "- `librarian_name`\n",
    "- `total_books`\n",
    "- `max_borrow_limit`\n",
    "\n",
    "### Class Methods\n",
    "\n",
    "You should implement a minimum of 5 methods. Below are some example methods to get you started (you are free to choose your own ideas and method names):\n",
    "\n",
    "```\n",
    "def borrow_book(self, book_title, borrower_name):\n",
    "    pass\n",
    "```\n",
    "\n",
    "```\n",
    "def return_book(self, book_title, borrower_name):\n",
    "    pass\n",
    "```\n",
    "\n",
    "```\n",
    "def search_book(self, book_title):\n",
    "    pass\n",
    "```\n",
    "\n",
    "```\n",
    "def display_library_info(self):\n",
    "    pass\n",
    "```\n",
    "\n",
    "```\n",
    "def manage_inventory(self, book_title, action, quantity):\n",
    "    pass\n",
    "```\n",
    "## Optional (for better points)\n",
    "To improve your score, you can include the following features:\n",
    "\n",
    "Add additional instance attributes, such as opening_hours, is_open, borrowed_books, etc.\n",
    "Add more class attributes, such as LateFeeRate, MaxBookLimitPerCustomer, etc.\n",
    "\n",
    "Implement error handling:\n",
    "Raise exceptions when a borrower tries to borrow more books than allowed.\n",
    "\n",
    "Raise exceptions if a book is not available in the library's collection.\n",
    "\n",
    "Add meaningful string documentation (docstrings) for your class and methods.\n",
    "\n",
    "Include detailed return messages for every method, even if the method doesn't necessarily need to return anything.\n",
    "\n",
    "## Example Requirements\n",
    "- A method for borrowing books should check availability and update the inventory.\n",
    "- A method for returning books should update the inventory and calculate any late fees.\n",
    "- A method for searching books should return the book's availability status.\n",
    "- A method for managing inventory should let the administrator add or remove books.\n",
    "- A method for displaying library information should print branch details and book statistics.\n",
    "## Rules\n",
    "- The total number of program lines should be above 100.\n",
    "- You should test your class thoroughly with multiple scenarios.\n",
    "- Ensure proper formatting, indentation, and readability of the code.\n",
    "## Dataset Example\n",
    "The dataset for this project involves a library system. Below is the description of the dataset:\n",
    "\n",
    "`library_id`: A unique identifier for each library branch (e.g., \"L001\").\n",
    "\n",
    "`branch_name`: The name of the library branch (e.g., \"Downtown Library\").\n",
    "\n",
    "`librarian_name`: The name of the librarian in charge (e.g., \"Alice Johnson\").\n",
    "\n",
    "`total_books`: The total number of books in the library's inventory (e.g., 10,000).\n",
    "\n",
    "`max_borrow_limit`: The maximum number of books a single customer can borrow at once (e.g., 5).\n",
    "\n",
    "## Example Class Structure\n",
    "```\n",
    "class LibrarySystem:\n",
    "    \n",
    "    def __init__(self, library_id, branch_name, librarian_name, total_books, max_borrow_limit):\n",
    "        \"\"\"Initializes the LibrarySystem class with library details.\"\"\"\n",
    "        pass\n",
    "    \n",
    "    def __del__(self):\n",
    "        \"\"\"Destructor for the LibrarySystem class.\"\"\"\n",
    "        pass\n",
    "    \n",
    "    def borrow_book(self, book_title, borrower_name):\n",
    "        \"\"\"Allows a customer to borrow a book from the library.\"\"\"\n",
    "        pass\n",
    "    \n",
    "    def return_book(self, book_title, borrower_name):\n",
    "        \"\"\"Allows a customer to return a borrowed book.\"\"\"\n",
    "        pass\n",
    "    \n",
    "    def search_book(self, book_title):\n",
    "        \"\"\"Searches for a book in the library's collection.\"\"\"\n",
    "        pass\n",
    "    \n",
    "    def display_library_info(self):\n",
    "        \"\"\"Displays the library's details and current inventory.\"\"\"\n",
    "        pass\n",
    "    \n",
    "    def manage_inventory(self, book_title, action, quantity):\n",
    "        \"\"\"Allows the administrator to add or remove books from the inventory.\"\"\"\n",
    "        pass\n",
    "```"
   ]
  },
  {
   "cell_type": "code",
   "execution_count": 69,
   "id": "78aea742-db29-4649-808e-0f8949636c56",
   "metadata": {},
   "outputs": [],
   "source": [
    "class LibrarySystem:\n",
    "    InstanceMemoryAddress = []\n",
    "    TotalBranches = 0\n",
    "    TotalBooksAvailable = 0\n",
    "\n",
    "    def __init__(self, library_id, branch_name, librarian_name=None, max_borrow_limit=3,\n",
    "                 book_dic={}):\n",
    "        \"\"\"Initializes the LibrarySystem class with library details.\"\"\"\n",
    "        if book_dic is None:\n",
    "            book_dic = {}\n",
    "        self.library_id = library_id  # id of library\n",
    "        self.branch_name = branch_name  # name of library\n",
    "        self.librarian_name = librarian_name  # name of librarian\n",
    "        self.total_books = len(book_dic)  # total num of books\n",
    "        self.max_borrow_limit = max_borrow_limit  # borrower max borrow limit at the same time\n",
    "        self.book_dic = book_dic  # book storage dictionary = (name: num)\n",
    "        self.borrow_dic = {}  # borrower dictionary\n",
    "        LibrarySystem.InstanceMemoryAddress.append(self)  # add instance address to recall\n",
    "        LibrarySystem.TotalBranches += 1  # add 1 branch\n",
    "        LibrarySystem.TotalBooksAvailable += self.total_books  # add total books num\n",
    "        print(f'Success: Operation \"initialize library\" successfully')\n",
    "        self.display_library_info()  # recall function: display information\n",
    "\n",
    "    def __del__(self):\n",
    "        \"\"\"Destructor for the LibrarySystem class.\"\"\"\n",
    "        LibrarySystem.InstanceMemoryAddress.remove(self) # remove instance from InstanceMemoryAddress\n",
    "        LibrarySystem.TotalBranches -= 1  # del the total number of branches\n",
    "        LibrarySystem.TotalBooksAvailable -= self.total_books # del the number of books from the total available books\n",
    "        print(f'Done: Library \"{self.branch_name}\" (ID: {self.library_id}) has been deleted.')\n",
    "\n",
    "\n",
    "    def borrow_book(self, book_title, borrower_name):\n",
    "        \"\"\"Allows a customer to borrow a book from the library.\"\"\"\n",
    "        if book_title not in self.book_dic:  # if book is not in this library\n",
    "            print(\n",
    "                f'Error: Operation \"borrow book\" failed!\\nBook \"{book_title}\" does not exist in library \"{self.branch_name}\".')\n",
    "            self.search_book(book_title=book_title)  # find other libraries\n",
    "        elif self.book_dic[book_title] == 0:  # library have no remain\n",
    "            print(f'Error: Operation \"borrow book\" failed!\\nAll of \"{book_title}\" have been borrowed.')\n",
    "            self.search_book(book_title=book_title)\n",
    "        elif borrower_name in self.borrow_dic and len(self.borrow_dic[borrower_name]) == 3:  # if exceed borrow limit\n",
    "            print(\n",
    "                f'Error: Operation \"borrow book\" failed!\\nYou have reached the maximum borrow limit: {self.max_borrow_limit}.')\n",
    "        else:  # have book & below limit\n",
    "            self.book_dic[book_title] -= 1  # borrow successfully\n",
    "            LibrarySystem.TotalBooksAvailable -= 1  # del 1 total availability\n",
    "            print(f'Done: Operation \"borrow book\" successfully. ')\n",
    "            if borrower_name not in self.borrow_dic:  # if borrower not in dic\n",
    "                self.borrow_dic[borrower_name] = [book_title]  # create borrower key\n",
    "            else:\n",
    "                self.borrow_dic[borrower_name].append(book_title)  # add borrow num\n",
    "            print(\n",
    "                f'You can borrow {self.max_borrow_limit - len(self.borrow_dic[borrower_name])} more books before you borrow.')\n",
    "\n",
    "    def return_book(self, book_title, borrower_name):\n",
    "        \"\"\"Allows a customer to return a borrowed book.\"\"\"\n",
    "        if len(self.borrow_dic[borrower_name]) == 0 or book_title not in self.borrow_dic[borrower_name]:  # borrow is 0\n",
    "            print(f'Error: Operation \"return book\" failed! You have not borrowed this!')\n",
    "        else:  # borrow is not 0\n",
    "            self.book_dic[book_title] += 1  # add 1 book\n",
    "            LibrarySystem.TotalBooksAvailable += 1  # add 1 total availability\n",
    "            del self.borrow_dic[borrower_name][self.borrow_dic[borrower_name].index(book_title)]\n",
    "            print(f'Done: Operation \"return book\" successfully.')\n",
    "            print(\n",
    "            f\"You've just released 1 quota, and you can borrow {self.max_borrow_limit - len(self.borrow_dic[borrower_name])} more books now.\")\n",
    "\n",
    "    def search_book(self, book_title):\n",
    "        \"\"\"Searches for a book in the library's collection.\"\"\"\n",
    "        if book_title not in self.book_dic or self.book_dic[book_title] == 0:  # if book not in dic or num is 0\n",
    "            print(f'Sorry! This book is unavailable at this library!')\n",
    "            result = {index.branch_name: index.book_dic[book_title] for index in LibrarySystem.InstanceMemoryAddress\n",
    "                      if (book_title in getattr(index, \"book_dic\") and getattr(index, \"book_dic\")[book_title] > 0)}  # search the other library\n",
    "            if len(result) > 0:  # have result\n",
    "                print(f'However, you can find this book at:')\n",
    "                for name, num in result.items():\n",
    "                    print(f'Library: {name}, there is/are {num} book(s) you want.')\n",
    "                print(f'Would you like to go there?')\n",
    "                return True\n",
    "            else:  # no result\n",
    "                print(f'This book is also unavailable at any libraries.')\n",
    "                return False\n",
    "        else:  # book in dic and num is greater than 0\n",
    "            print(f'This book is available at this library. There is/are {self.book_dic[book_title]} of them.')\n",
    "\n",
    "    def display_library_info(self):\n",
    "        \"\"\"Displays the library's details and current inventory.\"\"\"\n",
    "        print(f'Success: Operation \"display library information\" successfully.')\n",
    "        print(f'Library ID: {self.library_id}')\n",
    "        print(f'Library Name: {self.branch_name}')\n",
    "        print(f'Librarian Name: {self.librarian_name}')\n",
    "        print(f'Total Book Number of Library: {self.total_books}')\n",
    "        print(f'Maximum Borrow Quota at the Same Time: {self.max_borrow_limit}')\n",
    "\n",
    "    def manage_inventory(self, book_title, action, quantity):\n",
    "        \"\"\"Allows the administrator to add or remove books from the inventory.\"\"\"\n",
    "        if action == \"set\":  # set mode: set quantity\n",
    "            if book_title not in self.book_dic:\n",
    "                LibrarySystem.TotalBooksAvailable += quantity  # add total quantity\n",
    "            else:\n",
    "                LibrarySystem.TotalBooksAvailable += quantity - self.book_dic[book_title]  # update total quantity\n",
    "            self.book_dic[book_title] = quantity\n",
    "            print(f'Done: Operation \"manage inventory\" successfully. Set {book_title} quantity: {quantity}')\n",
    "        elif action == \"add\":  # add mode: add book num\n",
    "            if book_title not in self.book_dic:  # if book is not in dic\n",
    "                self.book_dic[book_title] = quantity  # add key & value\n",
    "            else:  # book is in dic\n",
    "                self.book_dic[book_title] += quantity  # add dic num\n",
    "            LibrarySystem.TotalBooksAvailable += quantity  # add total availability\n",
    "            print(f'Done: Operation \"manage inventory\" successfully. Add {book_title} quantity: {quantity}. Now have: {self.book_dic[book_title]}')\n",
    "        elif action == \"del\":  # del mode: delete book num\n",
    "            if book_title not in self.book_dic:  # book not in dic\n",
    "                print(f'Error: Operation \"manage inventory\" failed. No book {book_title}.')\n",
    "            elif self.book_dic[book_title] <= quantity:  # num less than del quantity\n",
    "                print(f'Error: Operation \"manage inventory\" failed. This book only have {self.book_dic[book_title]}.')\n",
    "            else:  # book in dic & higher than del quantity\n",
    "                self.book_dic[book_title] -= quantity  # del dic num\n",
    "                LibrarySystem.TotalBooksAvailable -= quantity  # del total availability\n",
    "                print(f'Done: Operation \"manage inventory\" successfully. Delete {book_title} quantity: {quantity}. Now have: {self.book_dic[book_title]}')\n"
   ]
  },
  {
   "cell_type": "markdown",
   "id": "bafdfcd8-2408-49cc-b4a7-8460f71d0be7",
   "metadata": {},
   "source": [
    "test code"
   ]
  },
  {
   "cell_type": "code",
   "execution_count": 70,
   "id": "e13050df-462e-491f-b33c-4fd6622d25ea",
   "metadata": {},
   "outputs": [
    {
     "name": "stdout",
     "output_type": "stream",
     "text": [
      "Success: Operation \"initialize library\" successfully\n",
      "Success: Operation \"display library information\" successfully.\n",
      "Library ID: 0001\n",
      "Library Name: Library_1\n",
      "Librarian Name: User_1\n",
      "Total Book Number of Library: 3\n",
      "Maximum Borrow Quota at the Same Time: 3\n"
     ]
    }
   ],
   "source": [
    "# 1. create instance\n",
    "instance1 = LibrarySystem(library_id = \"0001\", branch_name = \"Library_1\", librarian_name = \"User_1\", max_borrow_limit=3,\n",
    "                 book_dic={\"book1\": 1, \"book2\": 2, \"book3\": 3})"
   ]
  },
  {
   "cell_type": "code",
   "execution_count": 71,
   "id": "8c5c453e-d08f-4813-b429-415b8d872324",
   "metadata": {},
   "outputs": [
    {
     "name": "stdout",
     "output_type": "stream",
     "text": [
      "Success: Operation \"initialize library\" successfully\n",
      "Success: Operation \"display library information\" successfully.\n",
      "Library ID: 0002\n",
      "Library Name: Library_2\n",
      "Librarian Name: User_2\n",
      "Total Book Number of Library: 0\n",
      "Maximum Borrow Quota at the Same Time: 3\n"
     ]
    }
   ],
   "source": [
    "instance2 = LibrarySystem(library_id = \"0002\", branch_name = \"Library_2\", librarian_name = \"User_2\")"
   ]
  },
  {
   "cell_type": "code",
   "execution_count": 72,
   "id": "ae2404cc-4313-4193-9d9e-11553f21185d",
   "metadata": {},
   "outputs": [
    {
     "name": "stdout",
     "output_type": "stream",
     "text": [
      "Done: Operation \"manage inventory\" successfully. Set book2 quantity: 2\n"
     ]
    }
   ],
   "source": [
    "instance2.manage_inventory(action=\"set\", book_title=\"book2\", quantity=2)"
   ]
  },
  {
   "cell_type": "code",
   "execution_count": 73,
   "id": "64bab93a-df0a-4daa-b635-b33ef98c66f4",
   "metadata": {},
   "outputs": [
    {
     "name": "stdout",
     "output_type": "stream",
     "text": [
      "Done: Operation \"manage inventory\" successfully. Add book2 quantity: 2. Now have: 4\n"
     ]
    }
   ],
   "source": [
    "instance2.manage_inventory(action=\"add\", book_title=\"book2\", quantity=2)"
   ]
  },
  {
   "cell_type": "code",
   "execution_count": 74,
   "id": "122827fe-d2f6-4df0-a0f9-00a942053a8c",
   "metadata": {},
   "outputs": [
    {
     "name": "stdout",
     "output_type": "stream",
     "text": [
      "Done: Operation \"manage inventory\" successfully. Add book1 quantity: 2. Now have: 2\n"
     ]
    }
   ],
   "source": [
    "instance2.manage_inventory(action=\"add\", book_title=\"book1\", quantity=2)"
   ]
  },
  {
   "cell_type": "code",
   "execution_count": 75,
   "id": "b47b4cc7-4786-411c-9223-593647859314",
   "metadata": {},
   "outputs": [
    {
     "name": "stdout",
     "output_type": "stream",
     "text": [
      "Done: Operation \"borrow book\" successfully. \n",
      "You can borrow 2 more books before you borrow.\n"
     ]
    }
   ],
   "source": [
    "instance1.borrow_book(book_title=\"book1\",borrower_name=\"borrower1\")"
   ]
  },
  {
   "cell_type": "code",
   "execution_count": 76,
   "id": "f82ffaab-66c5-476d-abf8-e3fd6329b9d7",
   "metadata": {},
   "outputs": [
    {
     "name": "stdout",
     "output_type": "stream",
     "text": [
      "Done: Operation \"borrow book\" successfully. \n",
      "You can borrow 1 more books before you borrow.\n"
     ]
    }
   ],
   "source": [
    "instance1.borrow_book(book_title=\"book2\",borrower_name=\"borrower1\")"
   ]
  },
  {
   "cell_type": "code",
   "execution_count": 77,
   "id": "8cff3c4e-a12a-4fb9-914e-89dfa157e4ed",
   "metadata": {},
   "outputs": [
    {
     "name": "stdout",
     "output_type": "stream",
     "text": [
      "Done: Operation \"borrow book\" successfully. \n",
      "You can borrow 0 more books before you borrow.\n"
     ]
    }
   ],
   "source": [
    "instance1.borrow_book(book_title=\"book2\",borrower_name=\"borrower1\")"
   ]
  },
  {
   "cell_type": "code",
   "execution_count": 78,
   "id": "d7093e15-f469-491d-9dbc-cd22fd0a0273",
   "metadata": {},
   "outputs": [
    {
     "name": "stdout",
     "output_type": "stream",
     "text": [
      "Error: Operation \"borrow book\" failed!\n",
      "All of \"book2\" have been borrowed.\n",
      "Sorry! This book is unavailable at this library!\n",
      "However, you can find this book at:\n",
      "Library: Library_2, there is/are 4 book(s) you want.\n",
      "Would you like to go there?\n"
     ]
    }
   ],
   "source": [
    "instance1.borrow_book(book_title=\"book2\",borrower_name=\"borrower1\")"
   ]
  },
  {
   "cell_type": "code",
   "execution_count": 79,
   "id": "81c3a3c1-79dc-4422-acd8-80b02619b1a1",
   "metadata": {},
   "outputs": [
    {
     "name": "stdout",
     "output_type": "stream",
     "text": [
      "Error: Operation \"borrow book\" failed!\n",
      "You have reached the maximum borrow limit: 3.\n"
     ]
    }
   ],
   "source": [
    "instance1.borrow_book(book_title=\"book3\",borrower_name=\"borrower1\")"
   ]
  },
  {
   "cell_type": "code",
   "execution_count": 80,
   "id": "7b8de4ca-aafb-43b5-b85d-8b0604e5d58c",
   "metadata": {},
   "outputs": [
    {
     "name": "stdout",
     "output_type": "stream",
     "text": [
      "Done: Operation \"return book\" successfully.\n",
      "You've just released 1 quota, and you can borrow 1 more books now.\n"
     ]
    }
   ],
   "source": [
    "instance1.return_book(book_title=\"book1\",borrower_name=\"borrower1\")"
   ]
  },
  {
   "cell_type": "code",
   "execution_count": 81,
   "id": "a05a8d6d-fc80-466d-b3f3-a96c628511a6",
   "metadata": {},
   "outputs": [
    {
     "name": "stdout",
     "output_type": "stream",
     "text": [
      "Error: Operation \"return book\" failed! You have not borrowed this!\n"
     ]
    }
   ],
   "source": [
    "instance1.return_book(book_title=\"book1\",borrower_name=\"borrower1\")"
   ]
  },
  {
   "cell_type": "code",
   "execution_count": 82,
   "id": "ca4f3c31-ee44-4d34-8ef0-04cfd8bee401",
   "metadata": {},
   "outputs": [
    {
     "name": "stdout",
     "output_type": "stream",
     "text": [
      "Done: Operation \"manage inventory\" successfully. Delete book2 quantity: 1. Now have: 3\n"
     ]
    }
   ],
   "source": [
    "instance2.manage_inventory(action=\"del\", book_title=\"book2\", quantity=1)"
   ]
  },
  {
   "cell_type": "code",
   "execution_count": 83,
   "id": "be80c7ec-2ce9-431a-b8b5-4ef11157ad4d",
   "metadata": {},
   "outputs": [
    {
     "name": "stdout",
     "output_type": "stream",
     "text": [
      "Error: Operation \"manage inventory\" failed. This book only have 3.\n"
     ]
    }
   ],
   "source": [
    "instance2.manage_inventory(action=\"del\", book_title=\"book2\", quantity=5)"
   ]
  },
  {
   "cell_type": "code",
   "execution_count": 84,
   "id": "b1d88a2e-414a-48bf-a93f-ba7c7fafdb7d",
   "metadata": {},
   "outputs": [
    {
     "name": "stdout",
     "output_type": "stream",
     "text": [
      "Error: Operation \"manage inventory\" failed. No book book3.\n"
     ]
    }
   ],
   "source": [
    "instance2.manage_inventory(action=\"del\", book_title=\"book3\", quantity=5)"
   ]
  },
  {
   "cell_type": "code",
   "execution_count": 85,
   "id": "6a04446f",
   "metadata": {},
   "outputs": [
    {
     "name": "stdout",
     "output_type": "stream",
     "text": [
      "Done: Library \"Library_1\" (ID: 0001) has been deleted.\n"
     ]
    },
    {
     "data": {
      "text/plain": [
       "1"
      ]
     },
     "execution_count": 85,
     "metadata": {},
     "output_type": "execute_result"
    }
   ],
   "source": [
    "instance1.__del__()\n",
    "LibrarySystem.TotalBranches"
   ]
  }
 ],
 "metadata": {
  "kernelspec": {
   "display_name": "Python 3",
   "language": "python",
   "name": "python3"
  },
  "language_info": {
   "codemirror_mode": {
    "name": "ipython",
    "version": 3
   },
   "file_extension": ".py",
   "mimetype": "text/x-python",
   "name": "python",
   "nbconvert_exporter": "python",
   "pygments_lexer": "ipython3",
   "version": "3.9.6"
  }
 },
 "nbformat": 4,
 "nbformat_minor": 5
}
